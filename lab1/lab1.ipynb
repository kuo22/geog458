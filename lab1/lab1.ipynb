{
 "cells": [
  {
   "cell_type": "markdown",
   "metadata": {},
   "source": [
    "# ArcPy Lab 1\n",
    "\n",
    "Kuo Hong  \n",
    "GEOG 458  \n",
    "1/31/17\n",
    "\n"
   ]
  },
  {
   "cell_type": "markdown",
   "metadata": {},
   "source": [
    "## Imports modules necessary for this lab"
   ]
  },
  {
   "cell_type": "code",
   "execution_count": 1,
   "metadata": {
    "collapsed": true
   },
   "outputs": [],
   "source": [
    "# Imports necessary modules for assignment\n",
    "from subprocess import call\n",
    "import os\n",
    "import sys\n",
    "\n",
    "os.environ[\"GDAL_DATA\"] = \"C:\\\\OSGeo4W64\\\\share\\\\gdal\"\n",
    "os.environ[\"GDAL_DRIVER_PATH\"] = \"C:\\\\OSGeo4W64\\\\bin\\\\gdalplugins\"\n",
    "os.environ[\"PROJ_LIB\"] = \"C:\\\\OSGeo4W64\\\\share\\\\proj\"\n",
    "os.environ[\"PATH\"] = \"C:\\\\OSGeo4W64\\\\bin;\"+os.environ[\"PATH\"]+\";C:\\\\OSGeo4W64\\\\apps\\\\msys\\\\bin;C:\\\\OSGeo4W64\\\\apps\\\\Python27\\\\Scripts\"\n",
    "\n",
    "sys.path.append('C:\\\\Program Files (x86)\\\\ArcGIS\\\\Desktop10.5\\\\bin')\n",
    "sys.path.append('C:\\\\Program Files (x86)\\\\ArcGIS\\\\Desktop10.5\\\\arcpy')\n",
    "sys.path.append('C:\\\\Program Files (x86)\\\\ArcGIS\\\\Desktop10.5\\\\ArcToolbox\\\\Scripts')\n",
    "\n",
    "import arcpy\n",
    "arcpy.env.overwriteOutput = True"
   ]
  },
  {
   "cell_type": "code",
   "execution_count": 2,
   "metadata": {
    "collapsed": true
   },
   "outputs": [],
   "source": [
    "# Change directory for the census block file and FIPS table.\n",
    "block_file = \"data/saep_bg10.shp\"\n",
    "table_file = \"data/WashingtonFIPS.dbf\""
   ]
  },
  {
   "cell_type": "markdown",
   "metadata": {},
   "source": [
    "## Pro-processing step\n",
    "\n",
    "This code creates shapefiles for each county in the state, where each shapefile contains all block groups within that county.  This will allow me to convert these shapefiles to GeoJSON later.  Layer selection is used on the census block file by using the FIPS ID available in the .dbf.  Once all block groups with the same FIPS is selected, the CopyFeatures_management function can be used to create new shapefiles on those selections.  \n",
    "\n",
    "This step took about an hour due to the ArcPy documentation not being correct with some syntax and having to troubleshoot."
   ]
  },
  {
   "cell_type": "code",
   "execution_count": 3,
   "metadata": {
    "collapsed": true
   },
   "outputs": [],
   "source": [
    "# Makes new shapefiles for each individual county in the state. Takes in the block file and table file directory.\n",
    "def make_county_shp(block_file, table_file):\n",
    "    arcpy.MakeFeatureLayer_management(block_file, \"blocks\")\n",
    "    cursor = arcpy.da.SearchCursor(table_file, [\"CountyName\", \"FIPSCounty\"])\n",
    "    \n",
    "    # For each FIPS, select all blocks with that FIPS and make a shapefile of the selection\n",
    "    for row in cursor:\n",
    "        query = \"COUNTYFP10 = '\" + row[1] + \"'\" # SQL query\n",
    "        arcpy.SelectLayerByAttribute_management (\"blocks\", \"NEW_SELECTION\", query)\n",
    "        arcpy.CopyFeatures_management(\"blocks\", \"data/\" + row[0] + \".shp\")\n",
    "\n",
    "    del cursor\n",
    "\n",
    "make_county_shp(block_file, table_file)"
   ]
  },
  {
   "cell_type": "markdown",
   "metadata": {},
   "source": [
    "## Problem 1 - Conversion to GeoJSON\n",
    "\n",
    "This code converts the shapefiles that I made in the previous step into GeoJSON using the code provided on Canvas.  The FIPS .dbf is searched through in order to get the input names, which are the names of the counties.  The output file will have the same name, but different file type, in the ```output``` folder.\n",
    "\n",
    "This step also took about an hour of troubleshoot because some machines have ```OSGeo4W``` rather than ```OSGeo4W```, which took me a while to figure out."
   ]
  },
  {
   "cell_type": "code",
   "execution_count": 4,
   "metadata": {
    "collapsed": true
   },
   "outputs": [],
   "source": [
    "# Converts the county shape files into GeoJSON files. Takes in the table file directory.\n",
    "def convert(table_file):\n",
    "    cursor = arcpy.da.SearchCursor(table_file, \"CountyName\")\n",
    "    \n",
    "    # Creates GeoJSON file from the county shapefiles.\n",
    "    for row in cursor:\n",
    "        input_name = \"data/\" + row[0] + \".shp\"\n",
    "        output_name = \"output/\" + row[0] + \".geojson\" # To output to the output folder.\n",
    "        call(['C:\\\\OSGeo4W64\\\\bin\\\\ogr2ogr',\n",
    "          '-f','GeoJSON','-t_srs','WGS84',\n",
    "          '-s_srs','EPSG:2927',\n",
    "          output_name,\n",
    "          input_name])\n",
    "    \n",
    "    del cursor\n",
    "\n",
    "convert(table_file)"
   ]
  },
  {
   "cell_type": "markdown",
   "metadata": {},
   "source": [
    "## Problem 2 - Print top ten population\n",
    "\n",
    "This code prints out the top ten population counts by county.  The census block file is iterated through row by row, where data is stored in a dictionary (key being the FIPS and value being the county population).  Once my dictionary is formed, I sorted it by descending value in order to print out the top ten county population.\n",
    "\n",
    "This portion took about 30 minutes."
   ]
  },
  {
   "cell_type": "code",
   "execution_count": 5,
   "metadata": {},
   "outputs": [
    {
     "name": "stdout",
     "output_type": "stream",
     "text": [
      "Top 10 highest county population:\n",
      "1. 2153700\n",
      "2. 859400\n",
      "3. 789400\n",
      "4. 499800\n",
      "5. 471000\n",
      "6. 276900\n",
      "7. 264300\n",
      "8. 253000\n",
      "9. 216300\n",
      "10. 193500\n"
     ]
    }
   ],
   "source": [
    "# Prints out the population count for the top ten counties with the most population.\n",
    "def top10(block_file):\n",
    "    pop = {}\n",
    "    cursor = arcpy.da.SearchCursor(block_file, [\"COUNTYFP10\", \"POP2017\"])\n",
    "    \n",
    "    for row in cursor:\n",
    "        if (row[0] not in pop):\n",
    "            pop[row[0]] = row[1] # Adds new FIPS if it's not already in the dictionary\n",
    "        else:\n",
    "            pop[row[0]] += row[1] # Adds the block population to the amount that has already been added\n",
    "    \n",
    "    # Orders the population in descending order\n",
    "    sorted_pop = sorted(pop.iteritems(), key=lambda (k,v): (v,k), reverse = True)\n",
    "    \n",
    "    # Prints top ten county populations\n",
    "    print \"Top 10 highest county population:\"\n",
    "    for i in range(10):\n",
    "        print str(i + 1) + \". \" + str(int(round(sorted_pop[i][1], 0)))\n",
    "    \n",
    "    del cursor\n",
    "\n",
    "top10(block_file)"
   ]
  },
  {
   "cell_type": "code",
   "execution_count": null,
   "metadata": {
    "collapsed": true
   },
   "outputs": [],
   "source": []
  }
 ],
 "metadata": {
  "kernelspec": {
   "display_name": "Python 2",
   "language": "python",
   "name": "python2"
  },
  "language_info": {
   "codemirror_mode": {
    "name": "ipython",
    "version": 2
   },
   "file_extension": ".py",
   "mimetype": "text/x-python",
   "name": "python",
   "nbconvert_exporter": "python",
   "pygments_lexer": "ipython2",
   "version": "2.7.13"
  }
 },
 "nbformat": 4,
 "nbformat_minor": 2
}
