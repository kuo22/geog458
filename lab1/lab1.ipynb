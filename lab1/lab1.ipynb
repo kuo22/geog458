{
 "cells": [
  {
   "cell_type": "markdown",
   "metadata": {
    "deletable": true,
    "editable": true
   },
   "source": [
    "Kuo Hong\n",
    "\n",
    "GEOG 458\n",
    "\n",
    "First Lab"
   ]
  },
  {
   "cell_type": "code",
   "execution_count": 6,
   "metadata": {
    "collapsed": true,
    "deletable": true,
    "editable": true
   },
   "outputs": [],
   "source": [
    "from subprocess import call\n",
    "import os\n",
    "import sys\n",
    "\n",
    "os.environ[\"GDAL_DATA\"] = \"C:\\\\OSGeo4W\\\\share\\\\gdal\"\n",
    "os.environ[\"GDAL_DRIVER_PATH\"] = \"C:\\\\OSGeo4W\\\\bin\\\\gdalplugins\"\n",
    "os.environ[\"PROJ_LIB\"] = \"C:\\\\OSGeo4W\\\\share\\\\proj\"\n",
    "os.environ[\"PATH\"] = \"C:\\\\OSGeo4W\\\\bin;\"+os.environ[\"PATH\"]+\";C:\\\\OSGeo4W\\\\apps\\\\msys\\\\bin;C:\\\\OSGeo4W\\\\apps\\\\Python27\\\\Scripts\"\n",
    "\n",
    "\n",
    "sys.path.append('C:\\\\Program Files (x86)\\\\ArcGIS\\\\Desktop10.5\\\\bin')\n",
    "sys.path.append('C:\\\\Program Files (x86)\\\\ArcGIS\\\\Desktop10.5\\\\arcpy')\n",
    "sys.path.append('C:\\\\Program Files (x86)\\\\ArcGIS\\\\Desktop10.5\\\\ArcToolbox\\\\Scripts')\n",
    "\n",
    "import arcpy"
   ]
  },
  {
   "cell_type": "code",
   "execution_count": 7,
   "metadata": {
    "collapsed": false,
    "deletable": true,
    "editable": true
   },
   "outputs": [],
   "source": [
    "arcpy.env.overwriteOutput = True\n",
    "\n",
    "fc = \"H:/geog458/lab1/data/saep_bg10.shp\"\n",
    "fc2 = \"H:/geog458/lab1/data/WashingtonFIPS.dbf\"\n",
    "fc3 = \"H:/geog458/lab1/data/\"\n",
    "\n",
    "# arcpy.management.CopyFeatures(H:/geog458/Lab 1/data/saep_bg10.shp, fc)"
   ]
  },
  {
   "cell_type": "code",
   "execution_count": 10,
   "metadata": {
    "collapsed": false,
    "deletable": true,
    "editable": true
   },
   "outputs": [
    {
     "name": "stdout",
     "output_type": "stream",
     "text": [
      "15\n",
      "H:/geog458/Lab 1/data/Adams.shp\n",
      "21\n",
      "H:/geog458/Lab 1/data/Asotin.shp\n",
      "137\n",
      "H:/geog458/Lab 1/data/Benton.shp\n",
      "55\n",
      "H:/geog458/Lab 1/data/Chelan.shp\n",
      "55\n",
      "H:/geog458/Lab 1/data/Clallam.shp\n",
      "280\n",
      "H:/geog458/Lab 1/data/Clark.shp\n",
      "5\n",
      "H:/geog458/Lab 1/data/Columbia.shp\n",
      "89\n",
      "H:/geog458/Lab 1/data/Cowlitz.shp\n",
      "29\n",
      "H:/geog458/Lab 1/data/Douglas.shp\n",
      "7\n",
      "H:/geog458/Lab 1/data/Ferry.shp\n",
      "49\n",
      "H:/geog458/Lab 1/data/Franklin.shp\n",
      "3\n",
      "H:/geog458/Lab 1/data/Garfield.shp\n",
      "46\n",
      "H:/geog458/Lab 1/data/Grant.shp\n",
      "62\n",
      "H:/geog458/Lab 1/data/Grays Harbor.shp\n",
      "57\n",
      "H:/geog458/Lab 1/data/Island.shp\n",
      "27\n",
      "H:/geog458/Lab 1/data/Jefferson.shp\n",
      "1422\n",
      "H:/geog458/Lab 1/data/King.shp\n",
      "164\n",
      "H:/geog458/Lab 1/data/Kitsap.shp\n",
      "25\n",
      "H:/geog458/Lab 1/data/Kittitas.shp\n",
      "19\n",
      "H:/geog458/Lab 1/data/Klickitat.shp\n",
      "62\n",
      "H:/geog458/Lab 1/data/Lewis.shp\n",
      "11\n",
      "H:/geog458/Lab 1/data/Lincoln.shp\n",
      "49\n",
      "H:/geog458/Lab 1/data/Mason.shp\n",
      "44\n",
      "H:/geog458/Lab 1/data/Okanogan.shp\n",
      "20\n",
      "H:/geog458/Lab 1/data/Pacific.shp\n",
      "14\n",
      "H:/geog458/Lab 1/data/Pend Oreille.shp\n",
      "560\n",
      "H:/geog458/Lab 1/data/Pierce.shp\n",
      "14\n",
      "H:/geog458/Lab 1/data/San Juan.shp\n",
      "82\n",
      "H:/geog458/Lab 1/data/Skagit.shp\n",
      "10\n",
      "H:/geog458/Lab 1/data/Skamania.shp\n",
      "501\n",
      "H:/geog458/Lab 1/data/Snohomish.shp\n",
      "322\n",
      "H:/geog458/Lab 1/data/Spokane.shp\n",
      "34\n",
      "H:/geog458/Lab 1/data/Stevens.shp\n",
      "161\n",
      "H:/geog458/Lab 1/data/Thurston.shp\n",
      "5\n",
      "H:/geog458/Lab 1/data/Wahkiakum.shp\n",
      "43\n",
      "H:/geog458/Lab 1/data/Walla Walla.shp\n",
      "102\n",
      "H:/geog458/Lab 1/data/Whatcom.shp\n",
      "33\n",
      "H:/geog458/Lab 1/data/Whitman.shp\n",
      "149\n",
      "H:/geog458/Lab 1/data/Yakima.shp\n"
     ]
    }
   ],
   "source": [
    "#cursor1 = arcpy.da.SearchCursor(fc,\"*\")\n",
    "arcpy.MakeFeatureLayer_management (fc, \"blocks\")\n",
    "cursor2 = arcpy.da.SearchCursor(fc2, [\"CountyName\", \"FIPSCounty\"])\n",
    "\n",
    "for row in cursor2:\n",
    "    query = \"COUNTYFP10 = '\" + row[1] + \"'\"\n",
    "    arcpy.SelectLayerByAttribute_management (\"blocks\", \"NEW_SELECTION\", query)\n",
    "  #  print arcpy.GetCount_management(\"blocks\")\n",
    "    print fc3 + row[0] + \".shp\"\n",
    "    arcpy.CopyFeatures_management(\"blocks\", fc3 + row[0] + \".shp\")\n",
    "\n",
    "#FIPS = \"001\"\n",
    "#arcpy.SelectLayerByAttribute_management (\"blocks\", \"NEW_SELECTION\", query)\n",
    "#print arcpy.GetCount_management(\"blocks\")\n",
    "#arcpy.CopyFeatures_management(\"blocks\", fc3 + row[0] + \".shp\")\n",
    "\n",
    "#del cursor1\n",
    "del cursor2"
   ]
  },
  {
   "cell_type": "code",
   "execution_count": 9,
   "metadata": {
    "collapsed": false,
    "deletable": true,
    "editable": true
   },
   "outputs": [
    {
     "name": "stdout",
     "output_type": "stream",
     "text": [
      "H:/geog458/lab1/data/Adams.shp\n",
      "H:/geog458/lab1/data/Asotin.shp\n",
      "H:/geog458/lab1/data/Benton.shp\n",
      "H:/geog458/lab1/data/Chelan.shp\n",
      "H:/geog458/lab1/data/Clallam.shp\n",
      "H:/geog458/lab1/data/Clark.shp\n",
      "H:/geog458/lab1/data/Columbia.shp\n",
      "H:/geog458/lab1/data/Cowlitz.shp\n",
      "H:/geog458/lab1/data/Douglas.shp\n",
      "H:/geog458/lab1/data/Ferry.shp\n",
      "H:/geog458/lab1/data/Franklin.shp\n",
      "H:/geog458/lab1/data/Garfield.shp\n",
      "H:/geog458/lab1/data/Grant.shp\n",
      "H:/geog458/lab1/data/Grays Harbor.shp\n",
      "H:/geog458/lab1/data/Island.shp\n",
      "H:/geog458/lab1/data/Jefferson.shp\n",
      "H:/geog458/lab1/data/King.shp\n",
      "H:/geog458/lab1/data/Kitsap.shp\n",
      "H:/geog458/lab1/data/Kittitas.shp\n",
      "H:/geog458/lab1/data/Klickitat.shp\n",
      "H:/geog458/lab1/data/Lewis.shp\n",
      "H:/geog458/lab1/data/Lincoln.shp\n",
      "H:/geog458/lab1/data/Mason.shp\n",
      "H:/geog458/lab1/data/Okanogan.shp\n",
      "H:/geog458/lab1/data/Pacific.shp\n",
      "H:/geog458/lab1/data/Pend Oreille.shp\n",
      "H:/geog458/lab1/data/Pierce.shp\n",
      "H:/geog458/lab1/data/San Juan.shp\n",
      "H:/geog458/lab1/data/Skagit.shp\n",
      "H:/geog458/lab1/data/Skamania.shp\n",
      "H:/geog458/lab1/data/Snohomish.shp\n",
      "H:/geog458/lab1/data/Spokane.shp\n",
      "H:/geog458/lab1/data/Stevens.shp\n",
      "H:/geog458/lab1/data/Thurston.shp\n",
      "H:/geog458/lab1/data/Wahkiakum.shp\n",
      "H:/geog458/lab1/data/Walla Walla.shp\n",
      "H:/geog458/lab1/data/Whatcom.shp\n",
      "H:/geog458/lab1/data/Whitman.shp\n",
      "H:/geog458/lab1/data/Yakima.shp\n"
     ]
    }
   ],
   "source": [
    "def convert():\n",
    "    cursor2 = arcpy.da.SearchCursor(fc2, \"CountyName\")\n",
    "    \n",
    "    for row in cursor2:\n",
    "        input_name = fc3 + row[0] + \".shp\"\n",
    "        print input_name\n",
    "        output_name = \"H:/geog458/lab1/output/\" + row[0] + \".geojson\"\n",
    "        call(['C:\\\\OSGeo4W\\\\bin\\\\ogr2ogr',\n",
    "          '-f','GeoJSON','-t_srs','WGS84',\n",
    "          '-s_srs','EPSG:2927',\n",
    "          output_name,\n",
    "          input_name])\n",
    "    \n",
    "    del cursor2\n",
    "\n",
    "convert()\n",
    "    "
   ]
  },
  {
   "cell_type": "code",
   "execution_count": null,
   "metadata": {
    "collapsed": true,
    "deletable": true,
    "editable": true
   },
   "outputs": [],
   "source": []
  }
 ],
 "metadata": {
  "kernelspec": {
   "display_name": "Python 2",
   "language": "python",
   "name": "python2"
  },
  "language_info": {
   "codemirror_mode": {
    "name": "ipython",
    "version": 2
   },
   "file_extension": ".py",
   "mimetype": "text/x-python",
   "name": "python",
   "nbconvert_exporter": "python",
   "pygments_lexer": "ipython2",
   "version": "2.7.13"
  }
 },
 "nbformat": 4,
 "nbformat_minor": 2
}
