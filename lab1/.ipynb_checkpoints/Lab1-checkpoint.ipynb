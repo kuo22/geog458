{
 "cells": [
  {
   "cell_type": "markdown",
   "metadata": {
    "deletable": true,
    "editable": true
   },
   "source": [
    "Kuo Hong\n",
    "\n",
    "GEOG 458\n",
    "\n",
    "First Lab"
   ]
  },
  {
   "cell_type": "code",
   "execution_count": 1,
   "metadata": {
    "collapsed": true,
    "deletable": true,
    "editable": true
   },
   "outputs": [],
   "source": [
    "from subprocess import call\n",
    "import os\n",
    "import sys\n",
    "\n",
    "os.environ[\"GDAL_DATA\"] = \"C:\\\\OSGeo4W64\\\\share\\\\gdal\"\n",
    "os.environ[\"GDAL_DRIVER_PATH\"] = \"C:\\\\OSGeo4W64\\\\bin\\\\gdalplugins\"\n",
    "os.environ[\"PROJ_LIB\"] = \"C:\\\\OSGeo4W64\\\\share\\\\proj\"\n",
    "os.environ[\"PATH\"] = \"C:\\\\OSGeo4W64\\\\bin;\"+os.environ[\"PATH\"]+\";C:\\\\OSGeo4W64\\\\apps\\\\msys\\\\bin;C:\\\\OSGeo4W64\\\\apps\\\\Python27\\\\Scripts\"\n",
    "\n",
    "\n",
    "sys.path.append('C:\\\\Program Files (x86)\\\\ArcGIS\\\\Desktop10.5\\\\bin')\n",
    "sys.path.append('C:\\\\Program Files (x86)\\\\ArcGIS\\\\Desktop10.5\\\\arcpy')\n",
    "sys.path.append('C:\\\\Program Files (x86)\\\\ArcGIS\\\\Desktop10.5\\\\ArcToolbox\\\\Scripts')\n",
    "\n",
    "import arcpy"
   ]
  },
  {
   "cell_type": "code",
   "execution_count": 2,
   "metadata": {
    "collapsed": false,
    "deletable": true,
    "editable": true
   },
   "outputs": [],
   "source": [
    "arcpy.env.overwriteOutput = True\n",
    "\n",
    "fc = \"H:/geog458/Lab 1/data/saep_bg10.shp\"\n",
    "fc2 = \"H:/geog458/Lab 1/data/WashingtonFIPS.dbf\"\n",
    "fc3 = \"H:/geog458/Lab 1/data/\"\n",
    "\n",
    "# arcpy.management.CopyFeatures(H:/geog458/Lab 1/data/saep_bg10.shp, fc)"
   ]
  },
  {
   "cell_type": "code",
   "execution_count": 10,
   "metadata": {
    "collapsed": false,
    "deletable": true,
    "editable": true
   },
   "outputs": [
    {
     "name": "stdout",
     "output_type": "stream",
     "text": [
      "15\n",
      "H:/geog458/Lab 1/data/Adams.shp\n",
      "21\n",
      "H:/geog458/Lab 1/data/Asotin.shp\n",
      "137\n",
      "H:/geog458/Lab 1/data/Benton.shp\n",
      "55\n",
      "H:/geog458/Lab 1/data/Chelan.shp\n",
      "55\n",
      "H:/geog458/Lab 1/data/Clallam.shp\n",
      "280\n",
      "H:/geog458/Lab 1/data/Clark.shp\n",
      "5\n",
      "H:/geog458/Lab 1/data/Columbia.shp\n",
      "89\n",
      "H:/geog458/Lab 1/data/Cowlitz.shp\n",
      "29\n",
      "H:/geog458/Lab 1/data/Douglas.shp\n",
      "7\n",
      "H:/geog458/Lab 1/data/Ferry.shp\n",
      "49\n",
      "H:/geog458/Lab 1/data/Franklin.shp\n",
      "3\n",
      "H:/geog458/Lab 1/data/Garfield.shp\n",
      "46\n",
      "H:/geog458/Lab 1/data/Grant.shp\n",
      "62\n",
      "H:/geog458/Lab 1/data/Grays Harbor.shp\n",
      "57\n",
      "H:/geog458/Lab 1/data/Island.shp\n",
      "27\n",
      "H:/geog458/Lab 1/data/Jefferson.shp\n",
      "1422\n",
      "H:/geog458/Lab 1/data/King.shp\n",
      "164\n",
      "H:/geog458/Lab 1/data/Kitsap.shp\n",
      "25\n",
      "H:/geog458/Lab 1/data/Kittitas.shp\n",
      "19\n",
      "H:/geog458/Lab 1/data/Klickitat.shp\n",
      "62\n",
      "H:/geog458/Lab 1/data/Lewis.shp\n",
      "11\n",
      "H:/geog458/Lab 1/data/Lincoln.shp\n",
      "49\n",
      "H:/geog458/Lab 1/data/Mason.shp\n",
      "44\n",
      "H:/geog458/Lab 1/data/Okanogan.shp\n",
      "20\n",
      "H:/geog458/Lab 1/data/Pacific.shp\n",
      "14\n",
      "H:/geog458/Lab 1/data/Pend Oreille.shp\n",
      "560\n",
      "H:/geog458/Lab 1/data/Pierce.shp\n",
      "14\n",
      "H:/geog458/Lab 1/data/San Juan.shp\n",
      "82\n",
      "H:/geog458/Lab 1/data/Skagit.shp\n",
      "10\n",
      "H:/geog458/Lab 1/data/Skamania.shp\n",
      "501\n",
      "H:/geog458/Lab 1/data/Snohomish.shp\n",
      "322\n",
      "H:/geog458/Lab 1/data/Spokane.shp\n",
      "34\n",
      "H:/geog458/Lab 1/data/Stevens.shp\n",
      "161\n",
      "H:/geog458/Lab 1/data/Thurston.shp\n",
      "5\n",
      "H:/geog458/Lab 1/data/Wahkiakum.shp\n",
      "43\n",
      "H:/geog458/Lab 1/data/Walla Walla.shp\n",
      "102\n",
      "H:/geog458/Lab 1/data/Whatcom.shp\n",
      "33\n",
      "H:/geog458/Lab 1/data/Whitman.shp\n",
      "149\n",
      "H:/geog458/Lab 1/data/Yakima.shp\n"
     ]
    }
   ],
   "source": [
    "#cursor1 = arcpy.da.SearchCursor(fc,\"*\")\n",
    "arcpy.MakeFeatureLayer_management (fc, \"blocks\")\n",
    "cursor2 = arcpy.da.SearchCursor(fc2, [\"CountyName\", \"FIPSCounty\"])\n",
    "\n",
    "for row in cursor2:\n",
    "    query = \"COUNTYFP10 = '\" + row[1] + \"'\"\n",
    "    arcpy.SelectLayerByAttribute_management (\"blocks\", \"NEW_SELECTION\", query)\n",
    "  #  print arcpy.GetCount_management(\"blocks\")\n",
    "    print fc3 + row[0] + \".shp\"\n",
    "    arcpy.CopyFeatures_management(\"blocks\", fc3 + row[0] + \".shp\")\n",
    "\n",
    "#FIPS = \"001\"\n",
    "#arcpy.SelectLayerByAttribute_management (\"blocks\", \"NEW_SELECTION\", query)\n",
    "#print arcpy.GetCount_management(\"blocks\")\n",
    "#arcpy.CopyFeatures_management(\"blocks\", fc3 + row[0] + \".shp\")\n",
    "\n",
    "#del cursor1\n",
    "del cursor2"
   ]
  },
  {
   "cell_type": "code",
   "execution_count": 17,
   "metadata": {
    "collapsed": false,
    "deletable": true,
    "editable": true
   },
   "outputs": [
    {
     "name": "stdout",
     "output_type": "stream",
     "text": [
      "H:/geog458/Lab 1/data/Adams.shp\n"
     ]
    },
    {
     "ename": "WindowsError",
     "evalue": "[Error 2] The system cannot find the file specified",
     "output_type": "error",
     "traceback": [
      "\u001b[1;31m\u001b[0m",
      "\u001b[1;31mWindowsError\u001b[0mTraceback (most recent call last)",
      "\u001b[1;32m<ipython-input-17-bd9a89d59d80>\u001b[0m in \u001b[0;36m<module>\u001b[1;34m()\u001b[0m\n\u001b[0;32m     14\u001b[0m     \u001b[1;32mdel\u001b[0m \u001b[0mcursor2\u001b[0m\u001b[1;33m\u001b[0m\u001b[0m\n\u001b[0;32m     15\u001b[0m \u001b[1;33m\u001b[0m\u001b[0m\n\u001b[1;32m---> 16\u001b[1;33m \u001b[0mconvert\u001b[0m\u001b[1;33m(\u001b[0m\u001b[1;33m)\u001b[0m\u001b[1;33m\u001b[0m\u001b[0m\n\u001b[0m\u001b[0;32m     17\u001b[0m \u001b[1;33m\u001b[0m\u001b[0m\n",
      "\u001b[1;32m<ipython-input-17-bd9a89d59d80>\u001b[0m in \u001b[0;36mconvert\u001b[1;34m()\u001b[0m\n\u001b[0;32m     10\u001b[0m           \u001b[1;34m'-s_srs'\u001b[0m\u001b[1;33m,\u001b[0m\u001b[1;34m'EPSG:2927'\u001b[0m\u001b[1;33m,\u001b[0m\u001b[1;33m\u001b[0m\u001b[0m\n\u001b[0;32m     11\u001b[0m           \u001b[0moutput_name\u001b[0m\u001b[1;33m,\u001b[0m\u001b[1;33m\u001b[0m\u001b[0m\n\u001b[1;32m---> 12\u001b[1;33m           \"H:/geog458/Lab 1/data/Adams.shp\"])\n\u001b[0m\u001b[0;32m     13\u001b[0m \u001b[1;33m\u001b[0m\u001b[0m\n\u001b[0;32m     14\u001b[0m     \u001b[1;32mdel\u001b[0m \u001b[0mcursor2\u001b[0m\u001b[1;33m\u001b[0m\u001b[0m\n",
      "\u001b[1;32mC:\\Users\\kuo22.NETID\\AppData\\Local\\Enthought\\Canopy32\\edm\\envs\\User\\lib\\subprocess.pyc\u001b[0m in \u001b[0;36mcall\u001b[1;34m(*popenargs, **kwargs)\u001b[0m\n\u001b[0;32m    166\u001b[0m     \u001b[0mretcode\u001b[0m \u001b[1;33m=\u001b[0m \u001b[0mcall\u001b[0m\u001b[1;33m(\u001b[0m\u001b[1;33m[\u001b[0m\u001b[1;34m\"ls\"\u001b[0m\u001b[1;33m,\u001b[0m \u001b[1;34m\"-l\"\u001b[0m\u001b[1;33m]\u001b[0m\u001b[1;33m)\u001b[0m\u001b[1;33m\u001b[0m\u001b[0m\n\u001b[0;32m    167\u001b[0m     \"\"\"\n\u001b[1;32m--> 168\u001b[1;33m     \u001b[1;32mreturn\u001b[0m \u001b[0mPopen\u001b[0m\u001b[1;33m(\u001b[0m\u001b[1;33m*\u001b[0m\u001b[0mpopenargs\u001b[0m\u001b[1;33m,\u001b[0m \u001b[1;33m**\u001b[0m\u001b[0mkwargs\u001b[0m\u001b[1;33m)\u001b[0m\u001b[1;33m.\u001b[0m\u001b[0mwait\u001b[0m\u001b[1;33m(\u001b[0m\u001b[1;33m)\u001b[0m\u001b[1;33m\u001b[0m\u001b[0m\n\u001b[0m\u001b[0;32m    169\u001b[0m \u001b[1;33m\u001b[0m\u001b[0m\n\u001b[0;32m    170\u001b[0m \u001b[1;33m\u001b[0m\u001b[0m\n",
      "\u001b[1;32mC:\\Users\\kuo22.NETID\\AppData\\Local\\Enthought\\Canopy32\\edm\\envs\\User\\lib\\subprocess.pyc\u001b[0m in \u001b[0;36m__init__\u001b[1;34m(self, args, bufsize, executable, stdin, stdout, stderr, preexec_fn, close_fds, shell, cwd, env, universal_newlines, startupinfo, creationflags)\u001b[0m\n\u001b[0;32m    388\u001b[0m                                 \u001b[0mp2cread\u001b[0m\u001b[1;33m,\u001b[0m \u001b[0mp2cwrite\u001b[0m\u001b[1;33m,\u001b[0m\u001b[1;33m\u001b[0m\u001b[0m\n\u001b[0;32m    389\u001b[0m                                 \u001b[0mc2pread\u001b[0m\u001b[1;33m,\u001b[0m \u001b[0mc2pwrite\u001b[0m\u001b[1;33m,\u001b[0m\u001b[1;33m\u001b[0m\u001b[0m\n\u001b[1;32m--> 390\u001b[1;33m                                 errread, errwrite)\n\u001b[0m\u001b[0;32m    391\u001b[0m         \u001b[1;32mexcept\u001b[0m \u001b[0mException\u001b[0m\u001b[1;33m:\u001b[0m\u001b[1;33m\u001b[0m\u001b[0m\n\u001b[0;32m    392\u001b[0m             \u001b[1;31m# Preserve original exception in case os.close raises.\u001b[0m\u001b[1;33m\u001b[0m\u001b[1;33m\u001b[0m\u001b[0m\n",
      "\u001b[1;32mC:\\Users\\kuo22.NETID\\AppData\\Local\\Enthought\\Canopy32\\edm\\envs\\User\\lib\\subprocess.pyc\u001b[0m in \u001b[0;36m_execute_child\u001b[1;34m(self, args, executable, preexec_fn, close_fds, cwd, env, universal_newlines, startupinfo, creationflags, shell, to_close, p2cread, p2cwrite, c2pread, c2pwrite, errread, errwrite)\u001b[0m\n\u001b[0;32m    638\u001b[0m                                          \u001b[0menv\u001b[0m\u001b[1;33m,\u001b[0m\u001b[1;33m\u001b[0m\u001b[0m\n\u001b[0;32m    639\u001b[0m                                          \u001b[0mcwd\u001b[0m\u001b[1;33m,\u001b[0m\u001b[1;33m\u001b[0m\u001b[0m\n\u001b[1;32m--> 640\u001b[1;33m                                          startupinfo)\n\u001b[0m\u001b[0;32m    641\u001b[0m             \u001b[1;32mexcept\u001b[0m \u001b[0mpywintypes\u001b[0m\u001b[1;33m.\u001b[0m\u001b[0merror\u001b[0m\u001b[1;33m,\u001b[0m \u001b[0me\u001b[0m\u001b[1;33m:\u001b[0m\u001b[1;33m\u001b[0m\u001b[0m\n\u001b[0;32m    642\u001b[0m                 \u001b[1;31m# Translate pywintypes.error to WindowsError, which is\u001b[0m\u001b[1;33m\u001b[0m\u001b[1;33m\u001b[0m\u001b[0m\n",
      "\u001b[1;31mWindowsError\u001b[0m: [Error 2] The system cannot find the file specified"
     ]
    }
   ],
   "source": [
    "def convert():\n",
    "    cursor2 = arcpy.da.SearchCursor(fc2, \"CountyName\")\n",
    "    \n",
    "    for row in cursor2:\n",
    "        input_name = fc3 + row[0] + \".shp\"\n",
    "        print input_name\n",
    "        output_name = \"H:/geog458/Lab 1/output\" + row[0] + \".geojson\"\n",
    "        call(['C:\\\\OSGeo4W64\\\\bin\\\\ogr2ogr',\n",
    "          '-f','GeoJSON','-t_srs','WGS84',\n",
    "          '-s_srs','EPSG:2927',\n",
    "          output_name,\n",
    "          \"H:/geog458/Lab 1/data/Adams.shp\"])\n",
    "    \n",
    "    del cursor2\n",
    "\n",
    "convert()\n",
    "    "
   ]
  },
  {
   "cell_type": "code",
   "execution_count": null,
   "metadata": {
    "collapsed": true
   },
   "outputs": [],
   "source": []
  }
 ],
 "metadata": {
  "kernelspec": {
   "display_name": "Python 2",
   "language": "python",
   "name": "python2"
  },
  "language_info": {
   "codemirror_mode": {
    "name": "ipython",
    "version": 2
   },
   "file_extension": ".py",
   "mimetype": "text/x-python",
   "name": "python",
   "nbconvert_exporter": "python",
   "pygments_lexer": "ipython2",
   "version": "2.7.13"
  }
 },
 "nbformat": 4,
 "nbformat_minor": 2
}
