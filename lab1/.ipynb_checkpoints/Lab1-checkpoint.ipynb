{
 "cells": [
  {
   "cell_type": "markdown",
   "metadata": {
    "deletable": true,
    "editable": true
   },
   "source": [
    "Kuo Hong\n",
    "\n",
    "GEOG 458\n",
    "\n",
    "First Lab"
   ]
  },
  {
   "cell_type": "code",
   "execution_count": 1,
   "metadata": {
    "collapsed": false,
    "deletable": true,
    "editable": true
   },
   "outputs": [],
   "source": [
    "from subprocess import call\n",
    "import os\n",
    "import sys\n",
    "\n",
    "os.environ[\"GDAL_DATA\"] = \"C:\\\\OSGeo4W\\\\share\\\\gdal\"\n",
    "os.environ[\"GDAL_DRIVER_PATH\"] = \"C:\\\\OSGeo4W\\\\bin\\\\gdalplugins\"\n",
    "os.environ[\"PROJ_LIB\"] = \"C:\\\\OSGeo4W\\\\share\\\\proj\"\n",
    "os.environ[\"PATH\"] = \"C:\\\\OSGeo4W\\\\bin;\"+os.environ[\"PATH\"]+\";C:\\\\OSGeo4W\\\\apps\\\\msys\\\\bin;C:\\\\OSGeo4W\\\\apps\\\\Python27\\\\Scripts\"\n",
    "\n",
    "\n",
    "sys.path.append('C:\\\\Program Files (x86)\\\\ArcGIS\\\\Desktop10.5\\\\bin')\n",
    "sys.path.append('C:\\\\Program Files (x86)\\\\ArcGIS\\\\Desktop10.5\\\\arcpy')\n",
    "sys.path.append('C:\\\\Program Files (x86)\\\\ArcGIS\\\\Desktop10.5\\\\ArcToolbox\\\\Scripts')\n",
    "\n",
    "import arcpy"
   ]
  },
  {
   "cell_type": "code",
   "execution_count": 2,
   "metadata": {
    "collapsed": false,
    "deletable": true,
    "editable": true
   },
   "outputs": [],
   "source": [
    "arcpy.env.overwriteOutput = True\n",
    "\n",
    "fc = \"H:/geog458/lab1/data/saep_bg10.shp\"\n",
    "fc2 = \"H:/geog458/lab1/data/WashingtonFIPS.dbf\"\n",
    "fc3 = \"H:/geog458/lab1/data/\""
   ]
  },
  {
   "cell_type": "code",
   "execution_count": null,
   "metadata": {
    "collapsed": false,
    "deletable": true,
    "editable": true
   },
   "outputs": [],
   "source": [
    "arcpy.MakeFeatureLayer_management(fc, \"blocks\")\n",
    "cursor = arcpy.da.SearchCursor(fc2, [\"CountyName\", \"FIPSCounty\"])\n",
    "\n",
    "for row in cursor:\n",
    "    query = \"COUNTYFP10 = '\" + row[1] + \"'\"\n",
    "    arcpy.SelectLayerByAttribute_management (\"blocks\", \"NEW_SELECTION\", query)\n",
    "    arcpy.CopyFeatures_management(\"blocks\", fc3 + row[0] + \".shp\")\n",
    "\n",
    "del cursor"
   ]
  },
  {
   "cell_type": "code",
   "execution_count": null,
   "metadata": {
    "collapsed": false,
    "deletable": true,
    "editable": true
   },
   "outputs": [],
   "source": [
    "def convert():\n",
    "    cursor = arcpy.da.SearchCursor(fc2, \"CountyName\")\n",
    "    \n",
    "    for row in cursor:\n",
    "        input_name = fc3 + row[0] + \".shp\"\n",
    "        print input_name\n",
    "        output_name = \"H:/geog458/lab1/output/\" + row[0] + \".geojson\"\n",
    "        call(['C:\\\\OSGeo4W\\\\bin\\\\ogr2ogr',\n",
    "          '-f','GeoJSON','-t_srs','WGS84',\n",
    "          '-s_srs','EPSG:2927',\n",
    "          output_name,\n",
    "          input_name])\n",
    "    \n",
    "    del cursor\n",
    "\n",
    "convert()\n",
    "    "
   ]
  },
  {
   "cell_type": "code",
   "execution_count": 8,
   "metadata": {
    "collapsed": false,
    "deletable": true,
    "editable": true
   },
   "outputs": [
    {
     "name": "stdout",
     "output_type": "stream",
     "text": [
      "2153700.0\n",
      "859400.0\n",
      "789400.0\n",
      "499800.0\n",
      "471000.0\n",
      "276900.0\n",
      "264300.0\n",
      "253000.0\n",
      "216300.0\n",
      "193500.0\n"
     ]
    }
   ],
   "source": [
    "def top10():\n",
    "    arcpy.MakeFeatureLayer_management(fc, \"blocks\")\n",
    "    cursor = arcpy.da.SearchCursor(fc2, \"FIPSCounty\")\n",
    "    population = []\n",
    "    for row in cursor:\n",
    "        query = \"COUNTYFP10 = '\" + row[0] + \"'\"\n",
    "        arcpy.SelectLayerByAttribute_management (\"blocks\", \"NEW_SELECTION\", query)\n",
    "        cursor2 = arcpy.da.SearchCursor(\"blocks\", \"POP2017\")\n",
    "        county_pop = 0\n",
    "        for row2 in cursor2:\n",
    "            county_pop += row2[0]\n",
    "        population.append(county_pop)\n",
    "        del cursor2\n",
    "    \n",
    "    population.sort(reverse=True)\n",
    "    for i in range(10):\n",
    "        print population[i]\n",
    "    \n",
    "    del cursor\n",
    "    \n",
    "top10()"
   ]
  },
  {
   "cell_type": "code",
   "execution_count": null,
   "metadata": {
    "collapsed": true
   },
   "outputs": [],
   "source": []
  }
 ],
 "metadata": {
  "kernelspec": {
   "display_name": "Python 2",
   "language": "python",
   "name": "python2"
  },
  "language_info": {
   "codemirror_mode": {
    "name": "ipython",
    "version": 2
   },
   "file_extension": ".py",
   "mimetype": "text/x-python",
   "name": "python",
   "nbconvert_exporter": "python",
   "pygments_lexer": "ipython2",
   "version": "2.7.13"
  }
 },
 "nbformat": 4,
 "nbformat_minor": 2
}
